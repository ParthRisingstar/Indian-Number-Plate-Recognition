{
 "cells": [
  {
   "cell_type": "code",
   "execution_count": 3,
   "metadata": {},
   "outputs": [],
   "source": [
    "import csv\n",
    "\n",
    "\n",
    "with open('captcha_samples.csv', 'w', newline='') as outcsv:\n",
    "    writer = csv.DictWriter(outcsv, fieldnames = [\"Date\", \"Captcha Question\", \"Captcha Answer\",\"Validity of Recognition\",\"Match Result\",'Registering Authority', 'Registration No', 'Registration Date', 'Chassis No', 'Engine No', 'Owner Name', 'Vehicle Class', 'Fuel', 'MakerModel', 'FitnessREGN Upto', 'MV Tax upto', 'Insurance Upto', 'PUCC Upto', 'Emission norms', 'RC Status','Financed'])\n",
    "    writer.writeheader()"
   ]
  },
  {
   "cell_type": "code",
   "execution_count": null,
   "metadata": {},
   "outputs": [],
   "source": []
  }
 ],
 "metadata": {
  "kernelspec": {
   "display_name": "Python 3",
   "language": "python",
   "name": "python3"
  },
  "language_info": {
   "codemirror_mode": {
    "name": "ipython",
    "version": 3
   },
   "file_extension": ".py",
   "mimetype": "text/x-python",
   "name": "python",
   "nbconvert_exporter": "python",
   "pygments_lexer": "ipython3",
   "version": "3.7.6"
  }
 },
 "nbformat": 4,
 "nbformat_minor": 4
}
