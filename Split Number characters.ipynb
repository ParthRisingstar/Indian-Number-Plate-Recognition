{
 "cells": [
  {
   "cell_type": "code",
   "execution_count": 20,
   "metadata": {},
   "outputs": [
    {
     "name": "stdout",
     "output_type": "stream",
     "text": [
      "KA01MA0003\n"
     ]
    }
   ],
   "source": [
    "import re\n",
    "\n",
    "\n",
    "s= \"KA01MA3\"\n",
    "if re.match(r'^[A-Z]{2}[0-9]{2}[A-Z]{2}[0-9]{4}$', s, flags=0):\n",
    "    print(s)\n",
    "else:\n",
    "    if re.match(r'^[A-Z]{2}[0-9]{1}[A-Z]{2}', s, flags=0):\n",
    "        s = s[:2]+'0'+s[2:]\n",
    "        \n",
    "    elif re.match(r'^[A-Z]{2}[0-9]{2}[A-Z]{2}[0-9]{3}$', s, flags=0):\n",
    "        s = s[:6]+'0'+s[6:]\n",
    "\n",
    "    elif re.match(r'^[A-Z]{2}[0-9]{2}[A-Z]{2}[0-9]{2}$', s, flags=0):\n",
    "        s = s[:6]+'00'+s[6:]\n",
    "    elif re.match(r'^[A-Z]{2}[0-9]{2}[A-Z]{2}[0-9]{1}$', s, flags=0):\n",
    "        s = s[:6]+'000'+s[6:]\n",
    "    \n",
    "print(s)"
   ]
  },
  {
   "cell_type": "code",
   "execution_count": null,
   "metadata": {},
   "outputs": [],
   "source": []
  },
  {
   "cell_type": "code",
   "execution_count": null,
   "metadata": {},
   "outputs": [],
   "source": []
  }
 ],
 "metadata": {
  "kernelspec": {
   "display_name": "Python 3",
   "language": "python",
   "name": "python3"
  },
  "language_info": {
   "codemirror_mode": {
    "name": "ipython",
    "version": 3
   },
   "file_extension": ".py",
   "mimetype": "text/x-python",
   "name": "python",
   "nbconvert_exporter": "python",
   "pygments_lexer": "ipython3",
   "version": "3.7.6"
  }
 },
 "nbformat": 4,
 "nbformat_minor": 4
}
